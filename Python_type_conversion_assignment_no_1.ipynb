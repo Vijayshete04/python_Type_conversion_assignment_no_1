{
 "cells": [
  {
   "cell_type": "markdown",
   "id": "83d70e28",
   "metadata": {},
   "source": [
    "# Convert a integer to a floating-point number."
   ]
  },
  {
   "cell_type": "code",
   "execution_count": 3,
   "id": "d9384d16",
   "metadata": {},
   "outputs": [
    {
     "name": "stdout",
     "output_type": "stream",
     "text": [
      "9.0\n",
      "<class 'float'>\n"
     ]
    }
   ],
   "source": [
    "a=9\n",
    "b=float(a)\n",
    "print(b)\n",
    "print(type(b))"
   ]
  },
  {
   "cell_type": "markdown",
   "id": "9667ae01",
   "metadata": {},
   "source": [
    "# convert a float into a integer "
   ]
  },
  {
   "cell_type": "code",
   "execution_count": 4,
   "id": "6a89e979",
   "metadata": {},
   "outputs": [
    {
     "name": "stdout",
     "output_type": "stream",
     "text": [
      "9\n",
      "<class 'int'>\n"
     ]
    }
   ],
   "source": [
    "a=9.2\n",
    "b=int(a)\n",
    "print(b)\n",
    "print(type(b))"
   ]
  },
  {
   "cell_type": "markdown",
   "id": "7e6171db",
   "metadata": {},
   "source": [
    "# convert a integer into a string "
   ]
  },
  {
   "cell_type": "code",
   "execution_count": 12,
   "id": "514dc0ff",
   "metadata": {},
   "outputs": [
    {
     "name": "stdout",
     "output_type": "stream",
     "text": [
      "97\n",
      "<class 'str'>\n"
     ]
    }
   ],
   "source": [
    "a=97\n",
    "b=str(a)\n",
    "print(b)\n",
    "print(type(b))"
   ]
  },
  {
   "cell_type": "markdown",
   "id": "aff34b3d",
   "metadata": {},
   "source": [
    "# convert a list into a tuple "
   ]
  },
  {
   "cell_type": "code",
   "execution_count": 14,
   "id": "ae3f59f5",
   "metadata": {},
   "outputs": [
    {
     "name": "stdout",
     "output_type": "stream",
     "text": [
      "(1, 2, 3, 'vijay', 'shete')\n",
      "<class 'tuple'>\n"
     ]
    }
   ],
   "source": [
    "a=[1,2,3,\"vijay\",\"shete\"]\n",
    "b=tuple(a)\n",
    "print(b)\n",
    "print(type(b))"
   ]
  },
  {
   "cell_type": "markdown",
   "id": "7f90c2a9",
   "metadata": {},
   "source": [
    "# convert a tuple into a list"
   ]
  },
  {
   "cell_type": "code",
   "execution_count": 16,
   "id": "7234be63",
   "metadata": {},
   "outputs": [
    {
     "name": "stdout",
     "output_type": "stream",
     "text": [
      "[1, 2, 3, 'vijay', 'shete']\n",
      "<class 'list'>\n"
     ]
    }
   ],
   "source": [
    "a=(1,2,3,\"vijay\",\"shete\")\n",
    "b=list(a)\n",
    "print(b)\n",
    "print(type(b))"
   ]
  },
  {
   "cell_type": "markdown",
   "id": "4a17a54b",
   "metadata": {},
   "source": [
    "# convert a decimal number into a binary number "
   ]
  },
  {
   "cell_type": "code",
   "execution_count": 18,
   "id": "7238cee9",
   "metadata": {},
   "outputs": [
    {
     "name": "stdout",
     "output_type": "stream",
     "text": [
      "0b100\n",
      "<class 'str'>\n"
     ]
    }
   ],
   "source": [
    "a=4\n",
    "b=bin(a)\n",
    "print(b)\n",
    "print(type(b))\n"
   ]
  },
  {
   "cell_type": "markdown",
   "id": "f6b15ca9",
   "metadata": {},
   "source": [
    "# convert a non-zero number into a boolean number "
   ]
  },
  {
   "cell_type": "code",
   "execution_count": 21,
   "id": "7de27bfd",
   "metadata": {},
   "outputs": [
    {
     "name": "stdout",
     "output_type": "stream",
     "text": [
      "True\n",
      "<class 'bool'>\n"
     ]
    }
   ],
   "source": [
    "a=10\n",
    "b=bool(a)\n",
    "print(b)\n",
    "print(type(b))"
   ]
  },
  {
   "cell_type": "code",
   "execution_count": null,
   "id": "640d588e",
   "metadata": {},
   "outputs": [],
   "source": []
  }
 ],
 "metadata": {
  "kernelspec": {
   "display_name": "Python 3 (ipykernel)",
   "language": "python",
   "name": "python3"
  },
  "language_info": {
   "codemirror_mode": {
    "name": "ipython",
    "version": 3
   },
   "file_extension": ".py",
   "mimetype": "text/x-python",
   "name": "python",
   "nbconvert_exporter": "python",
   "pygments_lexer": "ipython3",
   "version": "3.11.5"
  }
 },
 "nbformat": 4,
 "nbformat_minor": 5
}
